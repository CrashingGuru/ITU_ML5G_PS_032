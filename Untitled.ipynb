{
  "nbformat": 4,
  "nbformat_minor": 0,
  "metadata": {
    "colab": {
      "name": "Untitled",
      "provenance": [],
      "collapsed_sections": [],
      "mount_file_id": "1edYKtCszHlX7WAZEQ_Sp_qd4b-935uKL",
      "authorship_tag": "ABX9TyPkrqjTczMYhB/tPtdNXAlu",
      "include_colab_link": true
    },
    "kernelspec": {
      "name": "python3",
      "display_name": "Python 3"
    }
  },
  "cells": [
    {
      "cell_type": "markdown",
      "metadata": {
        "id": "view-in-github",
        "colab_type": "text"
      },
      "source": [
        "<a href=\"https://colab.research.google.com/github/vrra/ITU_ML5G_PS_032/blob/master/Untitled.ipynb\" target=\"_parent\"><img src=\"https://colab.research.google.com/assets/colab-badge.svg\" alt=\"Open In Colab\"/></a>"
      ]
    },
    {
      "cell_type": "markdown",
      "metadata": {
        "id": "Cndtk7Macu94",
        "colab_type": "text"
      },
      "source": [
        "To try out ITU-ML5G-PS-032 Theme 1 from KDDI https://www.ieice.org/~rising/AI-5G/\n"
      ]
    },
    {
      "cell_type": "markdown",
      "metadata": {
        "id": "XCexELamqqLd",
        "colab_type": "text"
      },
      "source": [
        "\n",
        "Notes\n",
        "---\n",
        "\n",
        "\n",
        "Trouble: Cannot extract the tar.gz, it is too big => mounted G drive.\n",
        "\n",
        "---\n",
        "\n",
        "\n",
        "Trouble: space in G drive is not reflecting here => should split and look at files?\n",
        "\n",
        "---\n",
        "\n",
        "\n",
        "!tar ztvf data-for-learning.tar.gz |grep json|wc -l \n",
        "output: 29037\n",
        "\n",
        "---\n",
        "extracted the files.list.txt from tar tvf, that itself is 3MB :)\n",
        "\n",
        "---\n",
        "\n",
        "Trouble: facing quota problems: \"A google drive quota has been exceeded\"\n",
        "\n",
        "---\n",
        "Trouble: for the \"virtual\" Pandas arrays must all be same length\n",
        "\n",
        "\n",
        "---\n",
        "Trouble: for the \"network\" files, colab session is crashing due to using up all the RAM \"Your session crashed after using all available RAM\" - conclusion is that I definitely need to split the files.\n",
        "\n"
      ]
    },
    {
      "cell_type": "markdown",
      "metadata": {
        "id": "7sTYMkoJtihq",
        "colab_type": "text"
      },
      "source": [
        "Step-1: import libs"
      ]
    },
    {
      "cell_type": "code",
      "metadata": {
        "id": "UBftyaEGcUBj",
        "colab_type": "code",
        "colab": {}
      },
      "source": [
        "import requests\n",
        "import json\n",
        "import pandas as pd\n",
        "import os\n",
        "import tarfile\n",
        "import pathlib\n",
        "import shutil\n",
        "import numpy as np\n",
        "import gc\n",
        "from os import listdir\n",
        "from google.colab import drive\n"
      ],
      "execution_count": 7,
      "outputs": []
    },
    {
      "cell_type": "markdown",
      "metadata": {
        "id": "krb0TMpmtogz",
        "colab_type": "text"
      },
      "source": [
        "Step-2: if you are using Gdrive, you are mount it. It is a good idea at least to keep your tar.gz file there because you may lose the data if the colab instance crashes or relinquishes."
      ]
    },
    {
      "cell_type": "code",
      "metadata": {
        "id": "tcA0MTwD-BEE",
        "colab_type": "code",
        "colab": {}
      },
      "source": [
        "#drive.mount(\"/content/drive\", force_remount=True)"
      ],
      "execution_count": null,
      "outputs": []
    },
    {
      "cell_type": "markdown",
      "metadata": {
        "id": "slDYTg95t2CU",
        "colab_type": "text"
      },
      "source": [
        "Step-3: get the tar.gz, you got to uncomment this and run it once only, you could store it in your Gdrive after that."
      ]
    },
    {
      "cell_type": "code",
      "metadata": {
        "id": "BsXJLcgLnhe4",
        "colab_type": "code",
        "colab": {}
      },
      "source": [
        "#!wget \"https://www.ieice.org/~rising/AI-5G/dataset/theme1-KDDI/data-for-learning.tar.gz\""
      ],
      "execution_count": null,
      "outputs": []
    },
    {
      "cell_type": "markdown",
      "metadata": {
        "id": "YkEeB4lZt7_U",
        "colab_type": "text"
      },
      "source": [
        "Step-4: this step is useless because Grive is not helping much except as a store for the tar.gz :("
      ]
    },
    {
      "cell_type": "code",
      "metadata": {
        "id": "31cLMLQ3HLzs",
        "colab_type": "code",
        "colab": {}
      },
      "source": [
        "#!cp data-for-learning.tar.gz /content/drive/My\\ Drive/Colab\\ Notebooks/MyData/"
      ],
      "execution_count": null,
      "outputs": []
    },
    {
      "cell_type": "markdown",
      "metadata": {
        "id": "XtAxTky-uBJL",
        "colab_type": "text"
      },
      "source": [
        "Step-5: everytime your colab instance restarts or crashes, it is a good idea to re-run the below step. It simply copies the tar.gz (which you got in step 3) to your colab instance. "
      ]
    },
    {
      "cell_type": "code",
      "metadata": {
        "id": "INm0nUCHQoE0",
        "colab_type": "code",
        "colab": {}
      },
      "source": [
        "!cp /content/drive/My\\ Drive/Colab\\ Notebooks/MyData/data-for-learning.tar.gz /content/"
      ],
      "execution_count": 3,
      "outputs": []
    },
    {
      "cell_type": "code",
      "metadata": {
        "id": "ImcHgdQdUh5-",
        "colab_type": "code",
        "colab": {
          "base_uri": "https://localhost:8080/",
          "height": 104
        },
        "outputId": "f8f1bd36-6d99-431c-9e8c-cefc5968a2dc"
      },
      "source": [
        "os.listdir()"
      ],
      "execution_count": 8,
      "outputs": [
        {
          "output_type": "execute_result",
          "data": {
            "text/plain": [
              "['.config',\n",
              " 'drive',\n",
              " 'data-for-learning.tar.gz',\n",
              " '.ipynb_checkpoints',\n",
              " 'sample_data']"
            ]
          },
          "metadata": {
            "tags": []
          },
          "execution_count": 8
        }
      ]
    },
    {
      "cell_type": "markdown",
      "metadata": {
        "id": "koJD0jtyvP1j",
        "colab_type": "text"
      },
      "source": [
        "Step-6: open the tar file"
      ]
    },
    {
      "cell_type": "code",
      "metadata": {
        "id": "GBcknogtKxGW",
        "colab_type": "code",
        "colab": {}
      },
      "source": [
        "Mytarfile=tarfile.open(\"data-for-learning.tar.gz\")\n"
      ],
      "execution_count": 9,
      "outputs": []
    },
    {
      "cell_type": "markdown",
      "metadata": {
        "id": "2YOeIDE5vTYs",
        "colab_type": "text"
      },
      "source": [
        "Step-7: I make the lists accordingly to hold the data frames"
      ]
    },
    {
      "cell_type": "code",
      "metadata": {
        "id": "S4WHWEUXxmGq",
        "colab_type": "code",
        "colab": {}
      },
      "source": [
        "myDataf={}\n",
        "myDataf['data_learning_phy_infra_bgpnw2_frame']=pd.DataFrame()\n",
        "myDataf['data_learning_virtual_infra_bgpnw2_frame']=pd.DataFrame()\n",
        "myDataf['data_learning_net_dev_bgpnw2_frame']=pd.DataFrame()\n"
      ],
      "execution_count": null,
      "outputs": []
    },
    {
      "cell_type": "markdown",
      "metadata": {
        "id": "4EvSMrVj-zOT",
        "colab_type": "text"
      },
      "source": [
        "Step-8: Then I extract the files. I take care to rm the files which I extract, or else I am going to run out of disk very soon. You can uncomment any if block that you like from here to extract those files.\n",
        "NOTE:\n",
        "- with the physical-infrastructure-bgpnw2, I am able to load all json into the dataframe.\n",
        "- with the virtual-infrastructure-bgpnw2. I am getting the error \"arrays much have same length\". so I am guessing that the read_json is not liking what it sees :)\n",
        "- with the network-device-bgpnw2, I am running out of RAM and the colab crashes :(\n",
        "\n",
        "Not a great success story, but here we are @ weekend :)\n"
      ]
    },
    {
      "cell_type": "code",
      "metadata": {
        "id": "NGGrqiLYxDYY",
        "colab_type": "code",
        "colab": {}
      },
      "source": [
        "for member in Mytarfile:\n",
        "    p=pathlib.Path(member.name)\n",
        "    if member.isdir():\n",
        "        print(\"Processing files under \"+member.name)\n",
        "    elif member.isfile():\n",
        "      if member.name.lower().endswith('.json'):     \n",
        "        #if p.parts[1] == \"physical-infrastructure-bgpnw2\":\n",
        "        #  print(\"Extracing and processing file \"+member.name)\n",
        "        #  Mytarfile.extract(member.name)\n",
        "        #  myDataf['data_learning_phy_infra_bgpnw2_frame'] = myDataf['data_learning_phy_infra_bgpnw2_frame'].append(pd.read_json(member.name))\n",
        "        #  os.remove(member.name)\n",
        "        #el\n",
        "        #if p.parts[1] == \"virtual-infrastructure-bgpnw2\":\n",
        "        #  print(\"Extracing and processing file \"+member.name)\n",
        "        #  Mytarfile.extract(member.name)\n",
        "        #  myDataf['data_learning_virtual_infra_bgpnw2_frame'] = myDataf['data_learning_virtual_infra_bgpnw2_frame'].append(pd.read_json(member.name))\n",
        "        #  os.remove(member.name)\n",
        "        #el\n",
        "        #if p.parts[1] == \"network-device-bgpnw2\":\n",
        "        #  print(\"Extracing and processing file \"+member.name)\n",
        "        #  Mytarfile.extract(member.name)\n",
        "        #  myDataf['data_learning_net_dev_bgpnw2_frame'] = myDataf['data_learning_net_dev_bgpnw2_frame'].append(pd.read_json(member.name))\n",
        "        #  os.remove(member.name)                \n",
        "shutil.rmtree(p.parts[0])\n"
      ],
      "execution_count": null,
      "outputs": []
    },
    {
      "cell_type": "code",
      "metadata": {
        "id": "pHtC7HVPYWxs",
        "colab_type": "code",
        "colab": {}
      },
      "source": [
        "print(myDataf['data_learning_phy_infra_bgpnw2_frame'].head())\n",
        "print(myDataf['data_learning_virtual_infra_bgpnw2_frame'].head())\n",
        "print(myDataf['data_learning_net_dev_bgpnw2_frame'].head())"
      ],
      "execution_count": null,
      "outputs": []
    },
    {
      "cell_type": "code",
      "metadata": {
        "id": "NBIwIOP3GdMl",
        "colab_type": "code",
        "colab": {}
      },
      "source": [
        "os.listdir()"
      ],
      "execution_count": null,
      "outputs": []
    },
    {
      "cell_type": "code",
      "metadata": {
        "id": "jrAFGWvmD6a3",
        "colab_type": "code",
        "colab": {}
      },
      "source": [
        "Mytarfile.close()\n"
      ],
      "execution_count": null,
      "outputs": []
    }
  ]
}