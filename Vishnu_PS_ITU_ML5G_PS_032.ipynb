{
  "nbformat": 4,
  "nbformat_minor": 0,
  "metadata": {
    "colab": {
      "name": "Vishnu-PS-ITU-ML5G-PS-032.ipynb",
      "provenance": [],
      "toc_visible": true,
      "mount_file_id": "1edYKtCszHlX7WAZEQ_Sp_qd4b-935uKL",
      "authorship_tag": "ABX9TyMryfQKamnK1FuxQ6GB/JAv",
      "include_colab_link": true
    },
    "kernelspec": {
      "name": "python3",
      "display_name": "Python 3"
    }
  },
  "cells": [
    {
      "cell_type": "markdown",
      "metadata": {
        "id": "view-in-github",
        "colab_type": "text"
      },
      "source": [
        "<a href=\"https://colab.research.google.com/github/vrra/ITU_ML5G_PS_032/blob/master/Vishnu_PS_ITU_ML5G_PS_032.ipynb\" target=\"_parent\"><img src=\"https://colab.research.google.com/assets/colab-badge.svg\" alt=\"Open In Colab\"/></a>"
      ]
    },
    {
      "cell_type": "markdown",
      "metadata": {
        "id": "Cndtk7Macu94",
        "colab_type": "text"
      },
      "source": [
        "To try out ITU-ML5G-PS-032 Theme 1 from KDDI https://www.ieice.org/~rising/AI-5G/\n"
      ]
    },
    {
      "cell_type": "code",
      "metadata": {
        "id": "UBftyaEGcUBj",
        "colab_type": "code",
        "colab": {}
      },
      "source": [
        "import requests\n",
        "import json\n",
        "import pandas as pd\n",
        "from google.colab import drive\n"
      ],
      "execution_count": 12,
      "outputs": []
    },
    {
      "cell_type": "code",
      "metadata": {
        "id": "J_MSdEoOGn84",
        "colab_type": "code",
        "colab": {
          "base_uri": "https://localhost:8080/",
          "height": 34
        },
        "outputId": "07d6e4a3-76f3-433d-8974-f053c2f74fd0"
      },
      "source": [
        "drive.mount(\"/content/drive\")"
      ],
      "execution_count": 15,
      "outputs": [
        {
          "output_type": "stream",
          "text": [
            "Drive already mounted at /content/drive; to attempt to forcibly remount, call drive.mount(\"/content/drive\", force_remount=True).\n"
          ],
          "name": "stdout"
        }
      ]
    },
    {
      "cell_type": "code",
      "metadata": {
        "id": "BsXJLcgLnhe4",
        "colab_type": "code",
        "colab": {}
      },
      "source": [
        "#!wget \"https://www.ieice.org/~rising/AI-5G/dataset/theme1-KDDI/data-for-learning.tar.gz\""
      ],
      "execution_count": 22,
      "outputs": []
    },
    {
      "cell_type": "code",
      "metadata": {
        "id": "31cLMLQ3HLzs",
        "colab_type": "code",
        "colab": {}
      },
      "source": [
        "#!mv data-for-learning.tar.gz /content/drive/My\\ Drive/Colab\\ Notebooks/MyData/"
      ],
      "execution_count": 18,
      "outputs": []
    },
    {
      "cell_type": "code",
      "metadata": {
        "id": "GBcknogtKxGW",
        "colab_type": "code",
        "colab": {
          "base_uri": "https://localhost:8080/",
          "height": 34
        },
        "outputId": "6830b12a-337e-45f3-9df2-1c3fc027cbc2"
      },
      "source": [
        "!ls /content/drive/My\\ Drive/Colab\\ Notebooks/MyData/"
      ],
      "execution_count": 20,
      "outputs": [
        {
          "output_type": "stream",
          "text": [
            "data-for-learning.tar.gz\n"
          ],
          "name": "stdout"
        }
      ]
    },
    {
      "cell_type": "code",
      "metadata": {
        "id": "FpZYLQQBqVJv",
        "colab_type": "code",
        "colab": {
          "base_uri": "https://localhost:8080/",
          "height": 52
        },
        "outputId": "9d811bf8-4ce3-4bc8-a4ea-a30ea6cbbad5"
      },
      "source": [
        "!gunzip /content/drive/My\\ Drive/Colab\\ Notebooks/MyData/data-for-learning.tar.gz"
      ],
      "execution_count": 21,
      "outputs": [
        {
          "output_type": "stream",
          "text": [
            "\n",
            "gzip: /content/drive/My Drive/Colab Notebooks/MyData/data-for-learning.tar: No space left on device\n"
          ],
          "name": "stdout"
        }
      ]
    },
    {
      "cell_type": "code",
      "metadata": {
        "id": "jk885A5ft3TS",
        "colab_type": "code",
        "colab": {}
      },
      "source": [
        "tar xvf data-for-learning.tar"
      ],
      "execution_count": null,
      "outputs": []
    }
  ]
}